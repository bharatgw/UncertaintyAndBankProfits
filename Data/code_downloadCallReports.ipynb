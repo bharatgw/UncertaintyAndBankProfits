{
 "cells": [
  {
   "cell_type": "code",
   "execution_count": null,
   "metadata": {},
   "outputs": [],
   "source": [
    "import urllib.request\n",
    "import pandas as pd\n",
    "from zipfile import ZipFile\n",
    "from io import BytesIO\n",
    "from http.client import IncompleteRead\n",
    "import os"
   ]
  },
  {
   "cell_type": "markdown",
   "metadata": {},
   "source": [
    "# Legacy Call Reports"
   ]
  },
  {
   "cell_type": "code",
   "execution_count": null,
   "metadata": {},
   "outputs": [],
   "source": [
    "years = [f\"{i:02d}\" for i in range(76, 100)] + [f\"{i:02d}\" for i in range(0, 11)]\n",
    "quarters = [\"03\", \"06\", \"09\", \"12\"]"
   ]
  },
  {
   "cell_type": "code",
   "execution_count": null,
   "metadata": {},
   "outputs": [],
   "source": [
    "for year in tqdm(years):\n",
    "    for quarter in quarters:\n",
    "        url = f\"https://www.chicagofed.org/-/media/others/banking/financial-institution-reports/commercial-bank-data/call{year}{quarter}-zip.zip\"\n",
    "        while True:\n",
    "            try:\n",
    "                with ZipFile(BytesIO(urllib.request.urlopen(url).read()), \"r\") as zipObj:\n",
    "                    zipObj.extractall(\"./ChicagoFedCallReportsLegacy/\")\n",
    "                    break\n",
    "            except (IncompleteRead) as e:\n",
    "                print(e)\n"
   ]
  },
  {
   "cell_type": "code",
   "execution_count": null,
   "metadata": {},
   "outputs": [],
   "source": [
    "legacyCallReports =  os.listdir(\"./ChicagoFedCallReportsLegacy/\")\n",
    "\n",
    "for file in tqdm(legacyCallReports):\n",
    "    os.rename(f\"./ChicagoFedCallReportsLegacy/{file}\", f\"./ChicagoFedCallReportsLegacy/call{file[-8:]}\".lower())"
   ]
  },
  {
   "cell_type": "code",
   "execution_count": null,
   "metadata": {},
   "outputs": [],
   "source": [
    "years = [f\"{i:02d}\" for i in range(76, 100)] + [f\"{i:02d}\" for i in range(0, 11)]\n",
    "quarters = [\"03\", \"06\", \"09\", \"12\"]\n",
    "\n",
    "legacyCallReports = [[f\"call{year}{quarter}.xpt\" for quarter in quarters] for year in years]\n",
    "yearsNew = [i for i in range(1976, 2011)]\n",
    "quarterlyFilePath = \"./ChicagoFedCallReportsLegacy/quarterly/\"\n",
    "\n",
    "with tqdm(total = len(legacyCallReports)) as pbar:\n",
    "    for legacyCallReport, yearNew in zip(legacyCallReports, yearsNew):\n",
    "        df = pd.concat([pd.read_sas(quarterlyFilePath + file, format=\"xport\") for file in legacyCallReport])\n",
    "        df.to_csv(f\"./ChicagoFedCallReportsLegacy/call{yearNew}.csv\")\n",
    "        pbar.update(1)"
   ]
  },
  {
   "cell_type": "markdown",
   "metadata": {},
   "source": [
    "# Call Reports"
   ]
  },
  {
   "cell_type": "code",
   "execution_count": 8,
   "metadata": {},
   "outputs": [],
   "source": [
    "years = [f\"{i:02d}\" for i in range(2001, 2024)]\n",
    "quarters = [\"03/31/\", \"06/30/\", \"09/30/\", \"12/31/\"]"
   ]
  },
  {
   "cell_type": "code",
   "execution_count": null,
   "metadata": {},
   "outputs": [],
   "source": [
    "from selenium import webdriver\n",
    "from selenium.webdriver.common.by import By\n",
    "\n",
    "driver = webdriver.Edge(\"C:\\Windows\\System32\\msedgedriver.exe\")\n",
    "driver.get(url=\"https://cdr.ffiec.gov/public/PWS/DownloadBulkData.aspx\")\n",
    "\n",
    "# Select Multiple Call Reports option\n",
    "bulkDownloadPanel = driver.find_element(By.ID, \"BulkDownloadPanel\")\n",
    "products = bulkDownloadPanel.find_elements(By.TAG_NAME, \"select\")[0]\n",
    "products.find_elements(By.TAG_NAME, \"option\")[0].click()\n",
    "\n",
    "# Select years\n",
    "for year in tqdm(years):\n",
    "    for quarter in quarters:\n",
    "        bulkDownloadPanel = driver.find_element(By.ID, \"BulkDownloadPanel\")\n",
    "        yearSelect = bulkDownloadPanel.find_elements(By.TAG_NAME, \"select\")[1]\n",
    "        yearSelect.send_keys(f\"{quarter}{year}\")\n",
    "\n",
    "        # Download\n",
    "        driver.find_element(By.NAME, \"ctl00$MainContentHolder$TabStrip1$Download_0\").click()\n"
   ]
  },
  {
   "cell_type": "code",
   "execution_count": 2,
   "metadata": {},
   "outputs": [],
   "source": [
    "zipsPath = \"./ChicagoFedCallReports/zips/\"\n",
    "callReports = os.listdir(zipsPath)\n",
    "\n",
    "years = [i for i in range(2001, 2024)]\n",
    "callReports = {year: [file for file in callReports if str(year) in file] for year in years}"
   ]
  },
  {
   "cell_type": "code",
   "execution_count": 3,
   "metadata": {},
   "outputs": [],
   "source": [
    "def getCols(file, zipObj):\n",
    "    try:\n",
    "        df = pd.read_csv(zipObj.open(file), sep = \"\\t\", index_col= \"IDRSSD\", engine = \"c\", low_memory = False, on_bad_lines = \"skip\")\n",
    "    except:\n",
    "        df = pd.read_csv(zipObj.open(file), sep = \"\\t\", index_col= \"IDRSSD\", engine = \"python\", on_bad_lines = \"skip\")\n",
    "\n",
    "    if df.shape[1] > 0:\n",
    "        df = df[~df.index.duplicated(keep = False)]\n",
    "        df.index = pd.to_numeric(df.index, errors = \"coerce\")\n",
    "        df = df.loc[~df.index.isna()]\n",
    "        df = df.loc[:,~df.columns.duplicated()]\n",
    "        return df\n",
    "    else:\n",
    "        return None\n",
    "    \n",
    "def getQuarter(quarter):\n",
    "\n",
    "    with ZipFile(zipsPath + quarter) as zipObj:\n",
    "        files = zipObj.namelist()\n",
    "        files.remove(\"Readme.txt\")\n",
    "\n",
    "        df = pd.concat([getCols(file, zipObj) for file in files], axis = 1)\n",
    "        df = df[~df.index.isna()]\n",
    "        df = df[~df.index.duplicated(keep = False)]\n",
    "        df = df.loc[:,~df.columns.duplicated()]\n",
    "        df[\"RCON9999\"] = df[\"RCON9999\"].value_counts().index[0]\n",
    "\n",
    "    return df"
   ]
  },
  {
   "cell_type": "code",
   "execution_count": 76,
   "metadata": {},
   "outputs": [
    {
     "name": "stderr",
     "output_type": "stream",
     "text": [
      "100%|██████████| 23/23 [42:54<00:00, 111.92s/it]\n"
     ]
    }
   ],
   "source": [
    "for year, callReport in tqdm(callReports.items()):\n",
    "    df = pd.concat([getQuarter(quarter) for quarter in callReport], axis = 0, join = \"outer\", sort = False)\n",
    "    df.to_csv(f\"./ChicagoFedCallReports/call{year}.csv\")"
   ]
  }
 ],
 "metadata": {
  "kernelspec": {
   "display_name": "everything",
   "language": "python",
   "name": "python3"
  },
  "language_info": {
   "codemirror_mode": {
    "name": "ipython",
    "version": 3
   },
   "file_extension": ".py",
   "mimetype": "text/x-python",
   "name": "python",
   "nbconvert_exporter": "python",
   "pygments_lexer": "ipython3",
   "version": "3.11.5"
  },
  "orig_nbformat": 4
 },
 "nbformat": 4,
 "nbformat_minor": 2
}
