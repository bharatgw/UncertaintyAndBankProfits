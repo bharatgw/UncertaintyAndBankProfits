{
 "cells": [
  {
   "cell_type": "code",
   "execution_count": 296,
   "metadata": {},
   "outputs": [],
   "source": [
    "import numpy as np\n",
    "import pandas as pd"
   ]
  },
  {
   "cell_type": "code",
   "execution_count": 297,
   "metadata": {},
   "outputs": [],
   "source": [
    "findf = pd.read_csv(\"./Data/finalData/findf_AllSeries.csv\", index_col=0)\n",
    "findf.RSSD9999 = pd.to_datetime(findf.RSSD9999, format = \"%Y-%m-%d\")\n",
    "findf = findf.sort_values([\"RSSD9999\", \"RSSD9001\"])\n",
    "\n",
    "# Remove Bank Holding Companies\n",
    "attributesOpen = pd.read_csv(\"./Data/MergerAdjust/CSV_ATTRIBUTES_ACTIVE.csv\", low_memory=False)\n",
    "attributesClosed = pd.read_csv(\"./Data/MergerAdjust/CSV_ATTRIBUTES_CLOSED.csv\", low_memory=False)\n",
    "attributesBranches = pd.read_csv(\"./Data/MergerAdjust/CSV_ATTRIBUTES_BRANCHES.csv\", low_memory=False)\n",
    "attributes = pd.concat([attributesOpen, attributesClosed, attributesBranches], axis = 0).rename({\"#ID_RSSD\":\"RSSD9001\"}, axis = 1)\n",
    "bhcInd = attributes[[\"RSSD9001\", \"NM_LGL\", \"BHC_IND\"]]\n",
    "\n",
    "findf = pd.merge(findf, bhcInd, on = \"RSSD9001\", how = \"left\")\n",
    "\n",
    "findf = findf[findf.BHC_IND == 0]\n",
    "\n",
    "findf = findf.drop([\"BHC_IND\", \"NM_LGL\"], axis = 1)"
   ]
  },
  {
   "cell_type": "code",
   "execution_count": 298,
   "metadata": {},
   "outputs": [],
   "source": [
    "# # Merger adjust the data\n",
    "\n",
    "# transformations = pd.read_csv(\"./Data/MergerAdjust/CSV_TRANSFORMATIONS.CSV\")\n",
    "# transformations.rename({\"#ID_RSSD_PREDECESSOR\":\"oldRSSD9001\", \"ID_RSSD_SUCCESSOR\":\"newRSSD9001\"}, axis = 1, inplace = True)\n",
    "# transformations = transformations[~transformations.TRNSFM_CD.isin([5, 7])] # Remove splits and sale of assets since they don't result in a new entity\n",
    "# transformations = transformations[[\"oldRSSD9001\", \"newRSSD9001\", \"TRNSFM_CD\", \"ACCT_METHOD\", \"DT_TRANS\"]]\n",
    "# transformations[\"nAcquirers\"] = transformations.apply(lambda x: transformations[(transformations.oldRSSD9001 == x[\"oldRSSD9001\"]) & (transformations.DT_TRANS == x[\"DT_TRANS\"])].shape[0], axis = 1)\n",
    "# transformations = transformations.sort_values(\"DT_TRANS\")\n",
    "# transformations.DT_TRANS = pd.to_datetime(transformations.DT_TRANS, format = \"%Y%m%d\")\n",
    "\n",
    "# def getUltimateCompany(oldRSSD):\n",
    "#     if transformations[transformations.oldRSSD9001 == oldRSSD].shape[0] == 0:\n",
    "#         return oldRSSD\n",
    "#     elif transformations[transformations.oldRSSD9001 == oldRSSD].shape[0] == 1:\n",
    "#         return getUltimateCompany(transformations[transformations.oldRSSD9001 == oldRSSD].newRSSD9001.values[0])\n",
    "#     else:\n",
    "#         return [getUltimateCompany(x) for x in transformations[transformations.oldRSSD9001 == oldRSSD].newRSSD9001.values]\n",
    "\n",
    "# transformations.loc[:,\"ultimateCompany\"] = transformations.apply(lambda x: getUltimateCompany(x[\"oldRSSD9001\"]), axis = 1)\n",
    "\n",
    "# while transformations.ultimateCompany.apply(lambda x: type(x)).value_counts().shape[0] > 1:\n",
    "#     transformations = transformations.explode(\"ultimateCompany\")\n",
    "\n",
    "# transformations = transformations.drop_duplicates([\"oldRSSD9001\", \"ultimateCompany\", \"DT_TRANS\"])\n",
    "# transformations = transformations[[\"oldRSSD9001\", \"ACCT_METHOD\", \"TRNSFM_CD\", \"DT_TRANS\", \"nAcquirers\", \"ultimateCompany\"]]\n",
    "\n",
    "# transformations.to_csv(\"./Data/MergerAdjust/transformations.csv\")"
   ]
  },
  {
   "cell_type": "code",
   "execution_count": 299,
   "metadata": {},
   "outputs": [
    {
     "data": {
      "text/plain": [
       "(1973172, 176)"
      ]
     },
     "execution_count": 299,
     "metadata": {},
     "output_type": "execute_result"
    }
   ],
   "source": [
    "findf.shape"
   ]
  },
  {
   "cell_type": "code",
   "execution_count": 300,
   "metadata": {},
   "outputs": [],
   "source": [
    "transformations = pd.read_csv(\"./Data/MergerAdjust/transformations.csv\", index_col=0)\n",
    "transformations.DT_TRANS = pd.to_datetime(transformations.DT_TRANS, format = \"%Y-%m-%d\")"
   ]
  },
  {
   "cell_type": "code",
   "execution_count": 301,
   "metadata": {},
   "outputs": [],
   "source": [
    "balancesheet = [\"RCFD2170\", \"RCON2170\", \"RCFN2170\", \"RCFD3368\", \"RCON3368\", \"RCFN3368\", \"RCON2192\", \"RCON2948\", \"RCON2215\", \"RCON6810\", \"RCON0352\", \"RCON6648\", \"RCON6645\", \"RCON6646\", \"RCON2604\", \"RCONJ473\", \"RCONJ474\", \"RCONA223\", \"RCON0071\", \"RCON2122\", \"RCON0390\", \"RCON2146\", \"RCON3545\", \"RCON1754\", \"RCON1772\", \"RCON1350\", \"RCONB987\", \"RCONB989\", \"RCON8725\", \"RCON3450\", \"RCONA126\", \"RCONA589\", \"RIAD3210\", \"RCON3210\", \"RCON2385\", \"RCON3809\", \"RCON6631\", \"RCON6636\", \"RCON8693\", \"RCON8697\", \"RCON8701\", \"RCON8705\", \"RCON8709\", \"RCON8713\", \"RCON8733\", \"RCON8737\", \"RCON8741\", \"RCON8745\", \"RCON8766\", \"RCON8767\", \"RCONS582\", \"RCONS583\", \"RCONS584\", \"RCONS603\", \"RCONS604\", \"RCONS605\", \"RCON0081\", 'RCONA549', 'RCONA550', 'RCONA551', 'RCONA552', 'RCONA553', 'RCONA554', 'RCONA555', 'RCONA556', 'RCONA557', 'RCONA558', 'RCONA559', 'RCONA560', 'RCONA561', 'RCONA562', 'RCONA564', 'RCONA565', 'RCONA566', 'RCONA567', 'RCONA568', 'RCONA569', 'RCONA570', 'RCONA571', 'RCONA572', 'RCONA573', 'RCONA574', 'RCONA575', \"RCONA579\", \"RCONA580\", \"RCONA581\", \"RCONA582\", \"RCONA584\", \"RCONA585\", \"RCONA586\", \"RCONA587\", \"RCONHK07\", \"RCONHK08\", \"RCONHK09\", \"RCONHK10\", \"RCONHK12\", \"RCONHK13\", \"RCONHK14\", \"RCONHK15\", \"RCONF055\", \"RCONF056\", \"RCONF057\", \"RCONF058\", \"RCONF060\", \"RCONF061\", \"RCONF062\", \"RCONF063\"]\n",
    "incomestatement = [\"RIAD4340\", \"RIADC914\", \"RIAD4341\", \"RIAD4074\", \"RIADC899\", \"RIADC900\", \"RIADB525\", \"RIAD4842\", \"RIAD4079\", \"RIAD4093\", \"RIADC902\", \"RIADC903\", \"RIADC904\", \"RIADC905\", \"RIADC907\", \"RIAD4097\", \"RIAD4239\", \"RIAD4230\", \"RIADJJ33\", \"RIADKW02\", \"RIADC901\", \"RIAD4235\", \"RIAD4107\", \"RIAD4073\", \"RIAD4115\", \"RIAD4020\", \"RIAD4010\", \"RIAD4011\", \"RIAD4012\", \"RIAD4013\", \"RIAD4060\", \"RIAD4069\", \"RIAD4075\", \"RIAD4077\", \"RIAD4091\", \"RIAD4092\", \"RIAD4101\", \"RIAD4126\", \"RIAD4170\", \"RIAD4185\", \"RIAD4200\", \"RIAD4218\", \"RIAD4435\", \"RIAD4436\", \"RIAD4507\", \"RIAD4508\", \"RIAD4513\", \"RIAD4518\", \"RIAD4619\", \"RIAD5466\", \"RIAD8622\", \"RIAD8757\", \"RIADA315\", \"RIADA517\", \"RIADA518\", \"RIADB488\", \"RIADB489\", \"RIADB497\", \"RIADGW44\", \"RIADHK03\", \"RIADHK04\", \"RIADHT73\", \"RIADHT74\", \"RIADHT85\"]"
   ]
  },
  {
   "cell_type": "code",
   "execution_count": 302,
   "metadata": {},
   "outputs": [],
   "source": [
    "findfMerger = pd.merge(findf, transformations, how = \"left\", left_on = \"RSSD9001\", right_on = \"oldRSSD9001\")"
   ]
  },
  {
   "cell_type": "code",
   "execution_count": 303,
   "metadata": {},
   "outputs": [],
   "source": [
    "relQuarterStart = pd.to_datetime(findfMerger.DT_TRANS.dt.year.map(\"{:.0f}\".format) + \"-\" + (findfMerger.DT_TRANS.dt.quarter*3-2).map(\"{:.0f}\".format) + \"-\"  + \"1\", format = \"%Y-%m-%d\", errors = \"coerce\")\n",
    "relQuarterEnd = pd.to_datetime(findfMerger.DT_TRANS.dt.year.map(\"{:.0f}\".format) + \"-\" + (findfMerger.DT_TRANS.dt.quarter*3).map(\"{:.0f}\".format) + \"-\"  + (30 + (findfMerger.DT_TRANS.dt.quarter.isin([1,4]))).map(\"{:.0f}\".format), format = \"%Y-%m-%d\", errors = \"coerce\")"
   ]
  },
  {
   "cell_type": "code",
   "execution_count": 304,
   "metadata": {},
   "outputs": [],
   "source": [
    "findfMerger.loc[:,\"discount\"] = findfMerger.ACCT_METHOD.fillna(1).replace([2,0], np.nan).fillna((findfMerger.RSSD9999 - findfMerger.DT_TRANS).dt.days/(relQuarterEnd - relQuarterStart).dt.days)\n",
    "findfMerger.loc[findfMerger.discount < 0, \"discount\"] = 1\n",
    "findfMerger.loc[findfMerger.discount > 1, \"discount\"] = 1"
   ]
  },
  {
   "cell_type": "code",
   "execution_count": 305,
   "metadata": {},
   "outputs": [],
   "source": [
    "findfMerger.loc[:,balancesheet] = findfMerger[balancesheet] / findfMerger.nAcquirers.fillna(1).astype(int).values.reshape(-1,1)\n",
    "findfMerger.loc[:,incomestatement] = findfMerger[incomestatement] / findfMerger.nAcquirers.fillna(1).astype(int).values.reshape(-1,1) * findfMerger.discount.fillna(1).values.reshape(-1,1)\n",
    "findfMerger.loc[:,\"RSSD9001\"] = findfMerger.loc[:, \"ultimateCompany\"].fillna(findfMerger.loc[:, \"RSSD9001\"])"
   ]
  },
  {
   "cell_type": "code",
   "execution_count": 306,
   "metadata": {},
   "outputs": [],
   "source": [
    "mergeCompanyQuarters = [(a,b) for a,b in zip(findfMerger.RSSD9001[~findfMerger.DT_TRANS.isna()].values, findfMerger.DT_TRANS.dt.to_period(\"Q\")[~findfMerger.DT_TRANS.isna()].values)]\n",
    "mergeCompanyQuarters = list(set(mergeCompanyQuarters))"
   ]
  },
  {
   "cell_type": "code",
   "execution_count": 307,
   "metadata": {},
   "outputs": [
    {
     "data": {
      "text/plain": [
       "(831720, 180)"
      ]
     },
     "execution_count": 307,
     "metadata": {},
     "output_type": "execute_result"
    }
   ],
   "source": [
    "findfMerger = findfMerger.groupby([\"RSSD9001\", \"RSSD9999\"]).sum(balancesheet + incomestatement)\n",
    "findfMerger.shape"
   ]
  },
  {
   "cell_type": "code",
   "execution_count": 308,
   "metadata": {},
   "outputs": [],
   "source": [
    "findfMerger[\"dateQ\"] = findfMerger.index.get_level_values(1).to_period(\"Q\")\n",
    "findfMerger = findfMerger.reset_index().set_index([\"RSSD9001\", \"dateQ\"])"
   ]
  },
  {
   "cell_type": "code",
   "execution_count": 309,
   "metadata": {},
   "outputs": [],
   "source": [
    "mergeCompanyQuarters = pd.DataFrame(mergeCompanyQuarters)\n",
    "mergeCompanyQuarters = mergeCompanyQuarters[pd.MultiIndex.from_frame(mergeCompanyQuarters).isin(findfMerger.index)].values\n",
    "mergeCompanyQuarters = list(map(tuple, mergeCompanyQuarters))"
   ]
  },
  {
   "cell_type": "code",
   "execution_count": 310,
   "metadata": {},
   "outputs": [],
   "source": [
    "findfMerger[\"MADummy\"] = 0\n",
    "findfMerger.loc[mergeCompanyQuarters, \"MADummy\"] = 1\n",
    "findfMerger = findfMerger.reset_index().set_index([\"RSSD9001\", \"RSSD9999\"])"
   ]
  },
  {
   "cell_type": "code",
   "execution_count": 311,
   "metadata": {},
   "outputs": [
    {
     "data": {
      "text/plain": [
       "MADummy\n",
       "0    822632\n",
       "1      9088\n",
       "Name: count, dtype: int64"
      ]
     },
     "execution_count": 311,
     "metadata": {},
     "output_type": "execute_result"
    }
   ],
   "source": [
    "findfMerger = findfMerger[balancesheet + incomestatement + [\"MADummy\"]]\n",
    "findfMerger.MADummy.value_counts()"
   ]
  },
  {
   "cell_type": "code",
   "execution_count": 312,
   "metadata": {},
   "outputs": [],
   "source": [
    "findfMerger.to_csv(\"./Data/finalData/findf_AllSeries_MergerAdjusted.csv\")"
   ]
  }
 ],
 "metadata": {
  "kernelspec": {
   "display_name": "py311",
   "language": "python",
   "name": "python3"
  },
  "language_info": {
   "codemirror_mode": {
    "name": "ipython",
    "version": 3
   },
   "file_extension": ".py",
   "mimetype": "text/x-python",
   "name": "python",
   "nbconvert_exporter": "python",
   "pygments_lexer": "ipython3",
   "version": "3.11.5"
  }
 },
 "nbformat": 4,
 "nbformat_minor": 2
}
